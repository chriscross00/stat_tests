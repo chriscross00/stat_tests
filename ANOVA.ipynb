{
 "cells": [
  {
   "cell_type": "code",
   "execution_count": 2,
   "metadata": {},
   "outputs": [],
   "source": [
    "import scipy.stats as stats\n",
    "import numpy as np\n",
    "import pandas as pd"
   ]
  },
  {
   "cell_type": "markdown",
   "metadata": {},
   "source": [
    "* ANOVA measures means of several normally distributed populations\n",
    "    * Compares variability between groups against variability within groups"
   ]
  },
  {
   "cell_type": "markdown",
   "metadata": {},
   "source": [
    "### One-way ANOVA\n",
    "\n",
    "* $Y_{ij} = \\theta_{i} + \\epsilon_{ij}$\n",
    "    * Where $i = 1,..., k$ is treatments and $j = 1,..., n_{i}$ is observations\n",
    "* Assumptions\n",
    "    1. E$\\epsilon_{ij} = 0$ and Var$\\epsilon_{ij} = \\sigma^2_i < \\infty$\n",
    "    2. $\\theta_{ij}$ independent and normally distributed\n",
    "    3. Homoscedasticity, $\\sigma^2_i = \\sigma^2$ for all $i$\n",
    "* Null hypothesis: all means are equal $$H_0: \\theta_1 = \\theta_2 = ... = \\theta_k$$\n",
    "    * $H_0$ is true, then test statistic will have a *F* distribution \n",
    "* Alternative hypothesis: not all means are equal $$H_1: \\theta_i \\neq \\theta_j$$"
   ]
  },
  {
   "cell_type": "code",
   "execution_count": 3,
   "metadata": {},
   "outputs": [
    {
     "data": {
      "text/html": [
       "<div>\n",
       "<style scoped>\n",
       "    .dataframe tbody tr th:only-of-type {\n",
       "        vertical-align: middle;\n",
       "    }\n",
       "\n",
       "    .dataframe tbody tr th {\n",
       "        vertical-align: top;\n",
       "    }\n",
       "\n",
       "    .dataframe thead th {\n",
       "        text-align: right;\n",
       "    }\n",
       "</style>\n",
       "<table border=\"1\" class=\"dataframe\">\n",
       "  <thead>\n",
       "    <tr style=\"text-align: right;\">\n",
       "      <th></th>\n",
       "      <th>Source</th>\n",
       "      <th>DF</th>\n",
       "      <th>Sum of squares</th>\n",
       "      <th>Mean Square</th>\n",
       "      <th>F</th>\n",
       "    </tr>\n",
       "  </thead>\n",
       "  <tbody>\n",
       "    <tr>\n",
       "      <th>0</th>\n",
       "      <td>Treatments</td>\n",
       "      <td>$$k-1$$</td>\n",
       "      <td>SST</td>\n",
       "      <td>SST/$k-1$</td>\n",
       "      <td>MST/MSE</td>\n",
       "    </tr>\n",
       "    <tr>\n",
       "      <th>1</th>\n",
       "      <td>Error</td>\n",
       "      <td>$$n-k$$</td>\n",
       "      <td>SSE</td>\n",
       "      <td>SSE/($n-k$)</td>\n",
       "      <td>NULL</td>\n",
       "    </tr>\n",
       "    <tr>\n",
       "      <th>2</th>\n",
       "      <td>Total</td>\n",
       "      <td>$$n-1$$</td>\n",
       "      <td>SS(Total)</td>\n",
       "      <td>NULL</td>\n",
       "      <td>NULL</td>\n",
       "    </tr>\n",
       "  </tbody>\n",
       "</table>\n",
       "</div>"
      ],
      "text/plain": [
       "       Source       DF Sum of squares  Mean Square        F\n",
       "0  Treatments  $$k-1$$            SST    SST/$k-1$  MST/MSE\n",
       "1       Error  $$n-k$$            SSE  SSE/($n-k$)     NULL\n",
       "2       Total  $$n-1$$      SS(Total)         NULL     NULL"
      ]
     },
     "execution_count": 3,
     "metadata": {},
     "output_type": "execute_result"
    }
   ],
   "source": [
    "anova_dict = {'Source':['Treatments', 'Error', 'Total'],\n",
    "               'DF':['$$k-1$$', '$$n-k$$', '$$n-1$$'],\n",
    "               'Sum of squares':['SST', 'SSE', 'SS(Total)'],\n",
    "               'Mean Square': ['SST/$k-1$', 'SSE/($n-k$)', 'NULL'],\n",
    "               'F':['MST/MSE', 'NULL', 'NULL']\n",
    "    \n",
    "}\n",
    "\n",
    "df = pd.DataFrame.from_dict(anova_dict)\n",
    "df"
   ]
  },
  {
   "cell_type": "markdown",
   "metadata": {},
   "source": [
    "* $SST = \\sum_{i=k} n_i(\\bar{X_i}-\\bar{X})^2$\n",
    "    * Between\n",
    "* $SSE = \\sum_{i=k} (n_i - 1)\\sigma^2_i$\n",
    "    * Within"
   ]
  },
  {
   "cell_type": "markdown",
   "metadata": {},
   "source": [
    "### Two-way ANOVA\n",
    "\n",
    "* Uses two independent categorical variables, factors, which in are split into levels\n",
    "* Calculates main and interaction effec\n",
    "    * Main effect = factor's effect considered independently\n",
    "    * Interaction effect = all factors considered simutaneously\n",
    "* Multiple $H_0$:\n",
    "    * $H_{01} ...H_{0f} = \\theta_{1f} = \\theta_{2f} = ... = \\theta_{kf}$\n",
    "    * $H_0$ = No interaction between factors\n",
    "* Assumptions\n",
    "    1. E$\\epsilon_{ij} = 0$ and Var$\\epsilon_{ij} = \\sigma^2_i < \\infty$\n",
    "    2. $\\theta_{ij}$ independent and normally distributed\n",
    "    3. Homoscedasticity, $\\sigma^2_i = \\sigma^2$ for all $i$\n",
    "    4. Factors have equal sample size\n",
    "\n",
    "    \n"
   ]
  }
 ],
 "metadata": {
  "kernelspec": {
   "display_name": "Python 3",
   "language": "python",
   "name": "python3"
  },
  "language_info": {
   "codemirror_mode": {
    "name": "ipython",
    "version": 3
   },
   "file_extension": ".py",
   "mimetype": "text/x-python",
   "name": "python",
   "nbconvert_exporter": "python",
   "pygments_lexer": "ipython3",
   "version": "3.7.0"
  }
 },
 "nbformat": 4,
 "nbformat_minor": 2
}
