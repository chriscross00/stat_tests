{
 "cells": [
  {
   "cell_type": "code",
   "execution_count": 5,
   "metadata": {},
   "outputs": [],
   "source": [
    "import scipy.stats as stats\n",
    "import numpy as np"
   ]
  },
  {
   "cell_type": "markdown",
   "metadata": {},
   "source": [
    "* Test if difference in proportion dependent on value of another categorical variable\n",
    "* Gives a one-tail test"
   ]
  },
  {
   "cell_type": "markdown",
   "metadata": {},
   "source": [
    "* Probability given by hypergeomtric distribution.\n",
    "$$Pr(X = x) = \\frac{\\binom{K}{x}\\binom{N-K}{n-x}}{\\binom{N}{n}}$$\n",
    "\n",
    "* $Pr(Observed|H_{0}) = Pr(X=x)$\n",
    "* $H_{0}$ = relative proportion of i independent of j"
   ]
  },
  {
   "cell_type": "markdown",
   "metadata": {},
   "source": [
    "P-value < 0.05, so we can reject $H_{0}$ and conclude the results are statistically significant"
   ]
  },
  {
   "cell_type": "code",
   "execution_count": 11,
   "metadata": {},
   "outputs": [
    {
     "name": "stdout",
     "output_type": "stream",
     "text": [
      "Pr column does not affect row values: 0.03496503496503495\n"
     ]
    }
   ],
   "source": [
    "obs = np.array([[1,5], [8,2]])\n",
    "\n",
    "fisher = stats.fisher_exact(obs)\n",
    "print('Pr column does not affect row values: ' + str(fisher[1]))"
   ]
  }
 ],
 "metadata": {
  "kernelspec": {
   "display_name": "Python 3",
   "language": "python",
   "name": "python3"
  },
  "language_info": {
   "codemirror_mode": {
    "name": "ipython",
    "version": 3
   },
   "file_extension": ".py",
   "mimetype": "text/x-python",
   "name": "python",
   "nbconvert_exporter": "python",
   "pygments_lexer": "ipython3",
   "version": "3.7.0"
  }
 },
 "nbformat": 4,
 "nbformat_minor": 2
}
