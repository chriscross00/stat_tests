{
 "cells": [
  {
   "cell_type": "code",
   "execution_count": 7,
   "metadata": {},
   "outputs": [],
   "source": [
    "import scipy.stats as stats\n",
    "import numpy as np"
   ]
  },
  {
   "cell_type": "markdown",
   "metadata": {},
   "source": [
    "## Student's t-test\n",
    "\n",
    "* Test for statistical significant difference between means of two groups.\n",
    "    * If >2 groups, use an ANOVA\n",
    "* Assumptions:\n",
    "    * Dependent variables are id and continuous\n",
    "    * Dependent variables have constant $\\sigma^2$\n",
    "    * Dependent variables have a normal distribtuion\n",
    "* $H_0: u_1 = u_2 = ... = u_n$\n",
    "* $H_1: u_i \\neq u_j$ for some  *ij* in n"
   ]
  },
  {
   "cell_type": "markdown",
   "metadata": {},
   "source": [
    "Running a couple examples."
   ]
  },
  {
   "cell_type": "code",
   "execution_count": 20,
   "metadata": {},
   "outputs": [
    {
     "name": "stdout",
     "output_type": "stream",
     "text": [
      "Results of t-test w/ population mean of 5:\n",
      " Ttest_1sampResult(statistic=array([-0.02033749,  1.60902164]), pvalue=array([0.98385674, 0.11403637]))\n",
      "\n",
      "Results of t-test w/ population mean of 0:\n",
      " Ttest_1sampResult(statistic=array([3.378876  , 5.93237787]), pvalue=array([1.43478295e-03, 2.97439626e-07]))\n"
     ]
    }
   ],
   "source": [
    "np.random.seed(5)\n",
    "\n",
    "#Setting up our random data, 2 dependent variables with a mean of 5 and a SD of 10\n",
    "rvs = stats.norm.rvs(loc=5, scale=10, size=(50,2))\n",
    "\n",
    "#Testing if the sample mean differs from the population mean of 5\n",
    "t5 = stats.ttest_1samp(rvs, 5.0)\n",
    "print('Results of t-test w/ population mean of 5:\\n', t5)\n",
    "\n",
    "#Testing if the sample mean differs from the population mean of 0\n",
    "t0 = stats.ttest_1samp(rvs, 0.0)\n",
    "print('\\nResults of t-test w/ population mean of 0:\\n', t0)"
   ]
  }
 ],
 "metadata": {
  "kernelspec": {
   "display_name": "Python 3",
   "language": "python",
   "name": "python3"
  },
  "language_info": {
   "codemirror_mode": {
    "name": "ipython",
    "version": 3
   },
   "file_extension": ".py",
   "mimetype": "text/x-python",
   "name": "python",
   "nbconvert_exporter": "python",
   "pygments_lexer": "ipython3",
   "version": "3.7.0"
  }
 },
 "nbformat": 4,
 "nbformat_minor": 2
}
