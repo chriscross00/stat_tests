{
 "cells": [
  {
   "cell_type": "code",
   "execution_count": 1,
   "metadata": {},
   "outputs": [],
   "source": [
    "import numpy as np\n",
    "import pandas as pd\n",
    "from scipy.stats import chisquare"
   ]
  },
  {
   "cell_type": "markdown",
   "metadata": {},
   "source": [
    "* Test if difference between expected and observed frequencies\n",
    "* General formula: $$\\chi^{2} = \\sum \\frac{(O_{i}-E_{i})^2}{E_{i}}$$\n",
    "    * $O_{i}$ = observed\n",
    "    * $E_{i}$ = expected\n",
    "    \n",
    "* Only run if *i* > 5"
   ]
  },
  {
   "cell_type": "markdown",
   "metadata": {},
   "source": [
    "### Goodness of fit test\n",
    "\n",
    "* Test if $O_i$ is statiscally different than $E_i$\n",
    "* $H_0$: no significant difference between $O_i$ and $E_i$\n",
    "* $H_1$: some significant difference between $O_i$ and $E_i$"
   ]
  },
  {
   "cell_type": "markdown",
   "metadata": {},
   "source": [
    "### Test of independence\n",
    "\n",
    "* Test significant association between two variables of the same population\n",
    "    * Conduct when you have two categorical variables drawn from the same population\n",
    "* $H_0$: variables A and B are independent\n",
    "* $H_1$: variables A and B are not independent\n",
    "    * Does not predict causality"
   ]
  },
  {
   "cell_type": "code",
   "execution_count": 30,
   "metadata": {},
   "outputs": [],
   "source": [
    "a = [16., 18., 16., 14., 12., 12.]\n",
    "mn = float(np.mean(a))"
   ]
  },
  {
   "cell_type": "code",
   "execution_count": 45,
   "metadata": {},
   "outputs": [],
   "source": [
    "def chi(obs, exp):\n",
    "    b = []\n",
    "    for i in obs:\n",
    "        b.append(((i - exp)**2)/exp)\n",
    "    return sum(b)"
   ]
  },
  {
   "cell_type": "code",
   "execution_count": 46,
   "metadata": {},
   "outputs": [
    {
     "data": {
      "text/plain": [
       "2.0"
      ]
     },
     "execution_count": 46,
     "metadata": {},
     "output_type": "execute_result"
    }
   ],
   "source": [
    "test1=chi(a, mn)\n",
    "\n",
    "test1"
   ]
  }
 ],
 "metadata": {
  "kernelspec": {
   "display_name": "Python 3",
   "language": "python",
   "name": "python3"
  },
  "language_info": {
   "codemirror_mode": {
    "name": "ipython",
    "version": 3
   },
   "file_extension": ".py",
   "mimetype": "text/x-python",
   "name": "python",
   "nbconvert_exporter": "python",
   "pygments_lexer": "ipython3",
   "version": "3.7.0"
  }
 },
 "nbformat": 4,
 "nbformat_minor": 2
}
